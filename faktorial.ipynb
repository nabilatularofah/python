{
 "cells": [
  {
   "cell_type": "code",
   "execution_count": 9,
   "metadata": {},
   "outputs": [
    {
     "name": "stdout",
     "output_type": "stream",
     "text": [
      "angka: 5\n",
      "120\n"
     ]
    }
   ],
   "source": [
    "def faktorial (n):\n",
    "    result = 1\n",
    "    for i in range(1, n+1):\n",
    "        result = result*i\n",
    "        \n",
    "    return result\n",
    "\n",
    "\n",
    "a = int(input('angka: '))\n",
    "print(faktorial(a))"
   ]
  },
  {
   "cell_type": "code",
   "execution_count": 10,
   "metadata": {},
   "outputs": [
    {
     "name": "stdout",
     "output_type": "stream",
     "text": [
      "angka: 5\n",
      "120\n"
     ]
    }
   ],
   "source": [
    "def faktorial(n):\n",
    "    if n == 1:\n",
    "        return 1\n",
    "    \n",
    "    return n * faktorial(n - 1) # 5 x faktorial(5-1) x faktorial(4-1) x faktorial(3-1) x faktorial(2-1)\n",
    "\n",
    "a = int(input('angka: '))\n",
    "print(faktorial(a))"
   ]
  },
  {
   "cell_type": "code",
   "execution_count": null,
   "metadata": {},
   "outputs": [],
   "source": []
  },
  {
   "cell_type": "code",
   "execution_count": null,
   "metadata": {},
   "outputs": [],
   "source": []
  }
 ],
 "metadata": {
  "kernelspec": {
   "display_name": "Python 3",
   "language": "python",
   "name": "python3"
  },
  "language_info": {
   "codemirror_mode": {
    "name": "ipython",
    "version": 3
   },
   "file_extension": ".py",
   "mimetype": "text/x-python",
   "name": "python",
   "nbconvert_exporter": "python",
   "pygments_lexer": "ipython3",
   "version": "3.7.3"
  }
 },
 "nbformat": 4,
 "nbformat_minor": 2
}
