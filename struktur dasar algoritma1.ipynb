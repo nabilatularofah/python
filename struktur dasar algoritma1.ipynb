{
 "cells": [
  {
   "cell_type": "code",
   "execution_count": 3,
   "metadata": {},
   "outputs": [
    {
     "name": "stdout",
     "output_type": "stream",
     "text": [
      "ketik nilai panjang=4\n",
      "ketik nilai Lebar =5\n",
      "Keliling = 18\n",
      "Luas = 20\n"
     ]
    }
   ],
   "source": [
    "Panjang = int(input(\"ketik nilai panjang=\" ))\n",
    "Lebar = int(input(\"ketik nilai Lebar =\"))\n",
    "Keliling = 2*(Panjang + Lebar)\n",
    "Luas = Panjang * Lebar\n",
    "print(\"Keliling =\", Keliling)\n",
    "print(\"Luas =\", Luas)\n"
   ]
  },
  {
   "cell_type": "code",
   "execution_count": 4,
   "metadata": {},
   "outputs": [
    {
     "name": "stdout",
     "output_type": "stream",
     "text": [
      "Ketik Nilai =76\n",
      "Grade: B\n"
     ]
    }
   ],
   "source": [
    "Nilai = int(input(\"Ketik Nilai =\"))\n",
    "\n",
    "if Nilai >= 80:\n",
    "    grade = \"A\"\n",
    "elif Nilai >= 66:\n",
    "    grade = \"B\"\n",
    "elif Nilai >= 56:\n",
    "    grade = \"C\"\n",
    "elif Nilai >= 45:\n",
    "    grade = \"D\"\n",
    "else :\n",
    "    grade = \"E\"\n",
    "    \n",
    "print(\"Grade: %s\" % grade)"
   ]
  },
  {
   "cell_type": "code",
   "execution_count": 6,
   "metadata": {},
   "outputs": [
    {
     "name": "stdout",
     "output_type": "stream",
     "text": [
      "Banyaknya suku =5\n",
      "1 Adalah bilangan ganjil\n",
      "2 Adalah bilangan genap\n",
      "3 Adalah bilangan ganjil\n",
      "4 Adalah bilangan genap\n",
      "5 Adalah bilangan ganji\n"
     ]
    }
   ],
   "source": [
    "N = int(input(\"Banyaknya suku =\"))\n",
    "\n",
    "for i in range (1, N, 2):\n",
    "    print (i, \"Adalah bilangan ganjil\")\n",
    "    print (i+1, \"Adalah bilangan genap\")\n",
    "if N%2 !=0:\n",
    "    print(N, \"Adalah bilangan ganji\")"
   ]
  },
  {
   "cell_type": "code",
   "execution_count": null,
   "metadata": {},
   "outputs": [],
   "source": []
  }
 ],
 "metadata": {
  "kernelspec": {
   "display_name": "Python 3",
   "language": "python",
   "name": "python3"
  },
  "language_info": {
   "codemirror_mode": {
    "name": "ipython",
    "version": 3
   },
   "file_extension": ".py",
   "mimetype": "text/x-python",
   "name": "python",
   "nbconvert_exporter": "python",
   "pygments_lexer": "ipython3",
   "version": "3.7.3"
  }
 },
 "nbformat": 4,
 "nbformat_minor": 2
}
