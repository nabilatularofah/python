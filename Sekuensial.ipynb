{
 "cells": [
  {
   "cell_type": "code",
   "execution_count": 2,
   "metadata": {},
   "outputs": [
    {
     "name": "stdout",
     "output_type": "stream",
     "text": [
      "Ketik Nilai Panjang =4\n",
      "Ketik Nilai Lebar =5\n",
      "Keliling = 18.0\n",
      "Luas = 20.0\n"
     ]
    }
   ],
   "source": [
    "Panjang = float(input(\"Ketik Nilai Panjang =\"))\n",
    "Lebar = float(input(\"Ketik Nilai Lebar =\"))\n",
    "Keliling = 2*(Panjang + Lebar)\n",
    "Luas = Panjang * Lebar\n",
    "print(\"Keliling =\", Keliling)\n",
    "print(\"Luas =\", Luas)"
   ]
  },
  {
   "cell_type": "code",
   "execution_count": null,
   "metadata": {},
   "outputs": [],
   "source": []
  }
 ],
 "metadata": {
  "kernelspec": {
   "display_name": "Python 3",
   "language": "python",
   "name": "python3"
  },
  "language_info": {
   "codemirror_mode": {
    "name": "ipython",
    "version": 3
   },
   "file_extension": ".py",
   "mimetype": "text/x-python",
   "name": "python",
   "nbconvert_exporter": "python",
   "pygments_lexer": "ipython3",
   "version": "3.7.3"
  }
 },
 "nbformat": 4,
 "nbformat_minor": 2
}
